{
 "cells": [
  {
   "cell_type": "markdown",
   "id": "addf5920",
   "metadata": {},
   "source": [
    "\n",
    "\n"
   ]
  },
  {
   "cell_type": "code",
   "execution_count": null,
   "id": "52d107f1",
   "metadata": {},
   "outputs": [
    {
     "data": {
      "application/vnd.microsoft.datawrangler.viewer.v0+json": {
       "columns": [
        {
         "name": "index",
         "rawType": "int64",
         "type": "integer"
        },
        {
         "name": "2.66916667066498992 13.8916668123350107 0",
         "rawType": "object",
         "type": "string"
        }
       ],
       "ref": "5055442b-bf00-4082-80f6-6eb77adc7153",
       "rows": [
        [
         "0",
         "2.67000000399497006 13.8916668123350107 0"
        ],
        [
         "1",
         "2.67083333732494976 13.8916668123350107 0"
        ],
        [
         "2",
         "2.67166667065492947 13.8916668123350107 0"
        ],
        [
         "3",
         "2.67250000398490961 13.8916668123350107 0"
        ],
        [
         "4",
         "2.67333333731488931 13.8916668123350107 0"
        ]
       ],
       "shape": {
        "columns": 1,
        "rows": 5
       }
      },
      "text/html": [
       "<div>\n",
       "<style scoped>\n",
       "    .dataframe tbody tr th:only-of-type {\n",
       "        vertical-align: middle;\n",
       "    }\n",
       "\n",
       "    .dataframe tbody tr th {\n",
       "        vertical-align: top;\n",
       "    }\n",
       "\n",
       "    .dataframe thead th {\n",
       "        text-align: right;\n",
       "    }\n",
       "</style>\n",
       "<table border=\"1\" class=\"dataframe\">\n",
       "  <thead>\n",
       "    <tr style=\"text-align: right;\">\n",
       "      <th></th>\n",
       "      <th>2.66916667066498992 13.8916668123350107 0</th>\n",
       "    </tr>\n",
       "  </thead>\n",
       "  <tbody>\n",
       "    <tr>\n",
       "      <td>0</td>\n",
       "      <td>2.67000000399497006 13.8916668123350107 0</td>\n",
       "    </tr>\n",
       "    <tr>\n",
       "      <td>1</td>\n",
       "      <td>2.67083333732494976 13.8916668123350107 0</td>\n",
       "    </tr>\n",
       "    <tr>\n",
       "      <td>2</td>\n",
       "      <td>2.67166667065492947 13.8916668123350107 0</td>\n",
       "    </tr>\n",
       "    <tr>\n",
       "      <td>3</td>\n",
       "      <td>2.67250000398490961 13.8916668123350107 0</td>\n",
       "    </tr>\n",
       "    <tr>\n",
       "      <td>4</td>\n",
       "      <td>2.67333333731488931 13.8916668123350107 0</td>\n",
       "    </tr>\n",
       "  </tbody>\n",
       "</table>\n",
       "</div>"
      ],
      "text/plain": [
       "   2.66916667066498992 13.8916668123350107 0\n",
       "0  2.67000000399497006 13.8916668123350107 0\n",
       "1  2.67083333732494976 13.8916668123350107 0\n",
       "2  2.67166667065492947 13.8916668123350107 0\n",
       "3  2.67250000398490961 13.8916668123350107 0\n",
       "4  2.67333333731488931 13.8916668123350107 0"
      ]
     },
     "execution_count": 6,
     "metadata": {},
     "output_type": "execute_result"
    }
   ],
   "source": [
    "# import geopandas as gpd\n",
    "import pandas as pd\n",
    "# from shapely.geometry import Point\n",
    "import json\n",
    "\n",
    "# Load the state polygons (GeoJSON with Kogi, Benue, Taraba)\n",
    "# states_gdf = gpd.read_file(\"nigeria-states.geojson\")\n",
    "\n",
    "# Load your GeoJSON\n",
    "with open(\"nigeria_lga.geojson\") as f:\n",
    "    states_gdf = json.load(f)\n",
    "\n",
    "# Ensure CRS is WGS84 (latitude/longitude)\n",
    "# states_gdf = states_gdf.to_crs(\"EPSG:4326\")\n",
    "\n",
    "# Load XYZ data\n",
    "xyz_df = pd.read_csv(\"nga_pd_2020_1km_UNadj_ASCII_XYZ.csv\")\n",
    "population_density_df = pd.read_csv(\"output.csv\")\n",
    "\n",
    "\n",
    "\n",
    "# states_gdf.head(5)\n",
    "# xyz_df.head(5)\n",
    "population_density_df.head(5)[0]\n",
    "\n"
   ]
  },
  {
   "cell_type": "code",
   "execution_count": 12,
   "id": "1d64386e",
   "metadata": {},
   "outputs": [
    {
     "data": {
      "text/plain": [
       "'2.67000000399497006 13.8916668123350107 0'"
      ]
     },
     "execution_count": 12,
     "metadata": {},
     "output_type": "execute_result"
    }
   ],
   "source": [
    "population_density_df.iloc[0][0]"
   ]
  },
  {
   "cell_type": "markdown",
   "id": "01a7a325",
   "metadata": {},
   "source": []
  },
  {
   "cell_type": "code",
   "execution_count": null,
   "id": "1001d7ab",
   "metadata": {},
   "outputs": [],
   "source": [
    "# Create GeoDataFrame from XYZ\n",
    "geometry = [Point(xy) for xy in zip(xyz_df['X'], xyz_df['Y'])]\n",
    "xyz_gdf = gpd.GeoDataFrame(xyz_df, geometry=geometry, crs=\"EPSG:4326\")\n",
    "\n",
    "# Spatial join: keep only points within the selected states\n",
    "filtered_gdf = gpd.sjoin(xyz_gdf, states_gdf, how=\"inner\", predicate='within')\n",
    "\n",
    "# Save filtered points to CSV or GeoJSON\n",
    "# filtered_gdf[['X', 'Y', 'Z']].to_csv(\"filtered_points.csv\", index=False)\n",
    "\n",
    "print(f\"Filtered {len(filtered_gdf)} points inside the selected states.\")\n",
    "filtered_gdf.head(5)"
   ]
  },
  {
   "cell_type": "code",
   "execution_count": null,
   "id": "3d106cbe",
   "metadata": {},
   "outputs": [],
   "source": []
  },
  {
   "cell_type": "markdown",
   "id": "a33408d1",
   "metadata": {},
   "source": []
  }
 ],
 "metadata": {
  "kernelspec": {
   "display_name": "Python 3",
   "language": "python",
   "name": "python3"
  },
  "language_info": {
   "codemirror_mode": {
    "name": "ipython",
    "version": 3
   },
   "file_extension": ".py",
   "mimetype": "text/x-python",
   "name": "python",
   "nbconvert_exporter": "python",
   "pygments_lexer": "ipython3",
   "version": "3.7.4"
  }
 },
 "nbformat": 4,
 "nbformat_minor": 5
}
